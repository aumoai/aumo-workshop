{
 "cells": [
  {
   "cell_type": "markdown",
   "id": "f0aae3b7-2552-47e4-acdb-f43aa01c462c",
   "metadata": {},
   "source": [
    "# Executando um workflow por API\n",
    "\n",
    "O sistema AUMO é disponibilizado por meio de APIs para permitir a integração com ambientes já implantados de seus clientes.\n",
    "\n",
    "O tutorial a seguir mostra como utilizar a API de agentes por meio de comandos shell e por meio de código Python"
   ]
  },
  {
   "cell_type": "markdown",
   "id": "add5097c-608c-4dc3-949f-c2fd62f649c5",
   "metadata": {},
   "source": [
    "## Shell\n",
    "\n",
    "O código a seguir usa curl para fazer requisições à API de workflows. Substitua API-KEY pela sua chave, que pode ser obtida no painel de administração (https://workflows.saas.unia.aumo.live).\n",
    "\n",
    "Para obter sua chave de API, clique no ícone do seu usuário, em seguida clique na engrenagem de configurações, navegue para conta e expanda \"Chave de API da Organização\"."
   ]
  },
  {
   "cell_type": "code",
   "execution_count": 8,
   "id": "ebb8b848",
   "metadata": {},
   "outputs": [
    {
     "name": "stdout",
     "output_type": "stream",
     "text": [
      "{\n",
      "  \"user_id\": \"0199b964-9be3-7735-a608-77124d668136\",\n",
      "  \"workflow_id\": \"0199ba04-c341-7938-8892-61373348d35f\",\n",
      "  \"status\": \"completed\",\n",
      "  \"input\": {},\n",
      "  \"output\": {\n",
      "    \"input_node\": {\n",
      "      \"node_type\": \"InputNode\"\n",
      "    },\n",
      "    \"output_node\": {\n",
      "      \"saida\": \"Claro, aqui estão as tarefas para o projeto \\\"Workshops\\\" (KAN), divididas por status:\\n\\n**A Fazer (TO DO)**\\n* Análise de Desempenho da Aplicação\\n* Configurar CI/CD para Novo Projeto\\n* Treinamento sobre OpenShift para a Equipe\\n* Revisar Documentação de API\\n* Criar Ambiente de Desenvolvimento no OpenShift\\n\\n**Em Andamento (IN PROGRESS)**\\n* Atualização de Dependências da Aplicação\\n* Implementar Monitoramento em Tempo Real\\n\\n**Concluído (DONE)**\\n* Relatório de Conformidade de Segurança\\n* Configuração de Backups Automáticos\\n* Migrar Base de Dados para o Novo Servidor\",\n",
      "      \"node_type\": \"OutputNode\"\n",
      "    },\n",
      "    \"f5612b0911a34780a7c58838500299ae\": {\n",
      "      \"node_type\": \"SingleLLMCallNode\",\n",
      "      \"completion\": {\n",
      "        \"usage\": null,\n",
      "        \"content\": \"Claro, aqui estão as tarefas para o projeto \\\"Workshops\\\" (KAN), divididas por status:\\n\\n**A Fazer (TO DO)**\\n* Análise de Desempenho da Aplicação\\n* Configurar CI/CD para Novo Projeto\\n* Treinamento sobre OpenShift para a Equipe\\n* Revisar Documentação de API\\n* Criar Ambiente de Desenvolvimento no OpenShift\\n\\n**Em Andamento (IN PROGRESS)**\\n* Atualização de Dependências da Aplicação\\n* Implementar Monitoramento em Tempo Real\\n\\n**Concluído (DONE)**\\n* Relatório de Conformidade de Segurança\\n* Configuração de Backups Automáticos\\n* Migrar Base de Dados para o Novo Servidor\",\n",
      "        \"finish_reason\": null\n",
      "      },\n",
      "      \"tool_calls\": [\n",
      "        {\n",
      "          \"arguments\": {\n",
      "            \"jql\": \"project = \\\"KAN\\\" AND status IN (\\\"TO DO\\\", \\\"IN PROGRESS\\\", \\\"DONE\\\")\",\n",
      "            \"fields\": \"status,summary\"\n",
      "          },\n",
      "          \"tool_name\": \"jira_search\",\n",
      "          \"output_type\": \"tool_call\",\n",
      "          \"tool_call_id\": \"call_aad8e323296545f3b7ff85415fd8\"\n",
      "        }\n",
      "      ],\n",
      "      \"tool_responses\": [\n",
      "        {\n",
      "          \"content\": \"{\\n  \\\"total\\\": -1,\\n  \\\"start_at\\\": -1,\\n  \\\"max_results\\\": -1,\\n  \\\"issues\\\": [\\n    {\\n      \\\"id\\\": \\\"10009\\\",\\n      \\\"key\\\": \\\"KAN-10\\\",\\n      \\\"summary\\\": \\\"Relatório de Conformidade de Segurança\\\",\\n      \\\"created\\\": \\\"\\\",\\n      \\\"updated\\\": \\\"\\\",\\n      \\\"status\\\": {\\n        \\\"id\\\": \\\"10002\\\",\\n        \\\"name\\\": \\\"Done\\\",\\n        \\\"description\\\": \\\"\\\",\\n        \\\"icon_url\\\": \\\"https://template-workshop.atlassian.net/\\\",\\n        \\\"category\\\": {\\n          \\\"id\\\": 3,\\n          \\\"key\\\": \\\"done\\\",\\n          \\\"name\\\": \\\"Done\\\",\\n          \\\"color_name\\\": \\\"green\\\"\\n        }\\n      },\\n      \\\"labels\\\": [],\\n      \\\"components\\\": [],\\n      \\\"comments\\\": [],\\n      \\\"attachments\\\": [],\\n      \\\"url\\\": \\\"https://template-workshop.atlassian.net/rest/api/2/issue/10009\\\",\\n      \\\"fix_versions\\\": [],\\n      \\\"custom_fields\\\": {},\\n      \\\"requested_fields\\\": [\\n        \\\"status\\\",\\n        \\\"summary\\\"\\n      ],\\n      \\\"subtasks\\\": [],\\n      \\\"changelogs\\\": [],\\n      \\\"issuelinks\\\": []\\n    },\\n    {\\n      \\\"id\\\": \\\"10008\\\",\\n      \\\"key\\\": \\\"KAN-9\\\",\\n      \\\"summary\\\": \\\"Configuração de Backups Automáticos\\\",\\n      \\\"created\\\": \\\"\\\",\\n      \\\"updated\\\": \\\"\\\",\\n      \\\"status\\\": {\\n        \\\"id\\\": \\\"10002\\\",\\n        \\\"name\\\": \\\"Done\\\",\\n        \\\"description\\\": \\\"\\\",\\n        \\\"icon_url\\\": \\\"https://template-workshop.atlassian.net/\\\",\\n        \\\"category\\\": {\\n          \\\"id\\\": 3,\\n          \\\"key\\\": \\\"done\\\",\\n          \\\"name\\\": \\\"Done\\\",\\n          \\\"color_name\\\": \\\"green\\\"\\n        }\\n      },\\n      \\\"labels\\\": [],\\n      \\\"components\\\": [],\\n      \\\"comments\\\": [],\\n      \\\"attachments\\\": [],\\n      \\\"url\\\": \\\"https://template-workshop.atlassian.net/rest/api/2/issue/10008\\\",\\n      \\\"fix_versions\\\": [],\\n      \\\"custom_fields\\\": {},\\n      \\\"requested_fields\\\": [\\n        \\\"status\\\",\\n        \\\"summary\\\"\\n      ],\\n      \\\"subtasks\\\": [],\\n      \\\"changelogs\\\": [],\\n      \\\"issuelinks\\\": []\\n    },\\n    {\\n      \\\"id\\\": \\\"10007\\\",\\n      \\\"key\\\": \\\"KAN-8\\\",\\n      \\\"summary\\\": \\\"Migrar Base de Dados para o Novo Servidor\\\",\\n      \\\"created\\\": \\\"\\\",\\n      \\\"updated\\\": \\\"\\\",\\n      \\\"status\\\": {\\n        \\\"id\\\": \\\"10002\\\",\\n        \\\"name\\\": \\\"Done\\\",\\n        \\\"description\\\": \\\"\\\",\\n        \\\"icon_url\\\": \\\"https://template-workshop.atlassian.net/\\\",\\n        \\\"category\\\": {\\n          \\\"id\\\": 3,\\n          \\\"key\\\": \\\"done\\\",\\n          \\\"name\\\": \\\"Done\\\",\\n          \\\"color_name\\\": \\\"green\\\"\\n        }\\n      },\\n      \\\"labels\\\": [],\\n      \\\"components\\\": [],\\n      \\\"comments\\\": [],\\n      \\\"attachments\\\": [],\\n      \\\"url\\\": \\\"https://template-workshop.atlassian.net/rest/api/2/issue/10007\\\",\\n      \\\"fix_versions\\\": [],\\n      \\\"custom_fields\\\": {},\\n      \\\"requested_fields\\\": [\\n        \\\"status\\\",\\n        \\\"summary\\\"\\n      ],\\n      \\\"subtasks\\\": [],\\n      \\\"changelogs\\\": [],\\n      \\\"issuelinks\\\": []\\n    },\\n    {\\n      \\\"id\\\": \\\"10006\\\",\\n      \\\"key\\\": \\\"KAN-7\\\",\\n      \\\"summary\\\": \\\"Atualização de Dependências da Aplicação\\\",\\n      \\\"created\\\": \\\"\\\",\\n      \\\"updated\\\": \\\"\\\",\\n      \\\"status\\\": {\\n        \\\"id\\\": \\\"10001\\\",\\n        \\\"name\\\": \\\"In Progress\\\",\\n        \\\"description\\\": \\\"This work item is being actively worked on at the moment by the assignee.\\\",\\n        \\\"icon_url\\\": \\\"https://template-workshop.atlassian.net/\\\",\\n        \\\"category\\\": {\\n          \\\"id\\\": 4,\\n          \\\"key\\\": \\\"indeterminate\\\",\\n          \\\"name\\\": \\\"In Progress\\\",\\n          \\\"color_name\\\": \\\"yellow\\\"\\n        }\\n      },\\n      \\\"labels\\\": [],\\n      \\\"components\\\": [],\\n      \\\"comments\\\": [],\\n      \\\"attachments\\\": [],\\n      \\\"url\\\": \\\"https://template-workshop.atlassian.net/rest/api/2/issue/10006\\\",\\n      \\\"fix_versions\\\": [],\\n      \\\"custom_fields\\\": {},\\n      \\\"requested_fields\\\": [\\n        \\\"status\\\",\\n        \\\"summary\\\"\\n      ],\\n      \\\"subtasks\\\": [],\\n      \\\"changelogs\\\": [],\\n      \\\"issuelinks\\\": []\\n    },\\n    {\\n      \\\"id\\\": \\\"10005\\\",\\n      \\\"key\\\": \\\"KAN-6\\\",\\n      \\\"summary\\\": \\\"Implementar Monitoramento em Tempo Real\\\",\\n      \\\"created\\\": \\\"\\\",\\n      \\\"updated\\\": \\\"\\\",\\n      \\\"status\\\": {\\n        \\\"id\\\": \\\"10001\\\",\\n        \\\"name\\\": \\\"In Progress\\\",\\n        \\\"description\\\": \\\"This work item is being actively worked on at the moment by the assignee.\\\",\\n        \\\"icon_url\\\": \\\"https://template-workshop.atlassian.net/\\\",\\n        \\\"category\\\": {\\n          \\\"id\\\": 4,\\n          \\\"key\\\": \\\"indeterminate\\\",\\n          \\\"name\\\": \\\"In Progress\\\",\\n          \\\"color_name\\\": \\\"yellow\\\"\\n        }\\n      },\\n      \\\"labels\\\": [],\\n      \\\"components\\\": [],\\n      \\\"comments\\\": [],\\n      \\\"attachments\\\": [],\\n      \\\"url\\\": \\\"https://template-workshop.atlassian.net/rest/api/2/issue/10005\\\",\\n      \\\"fix_versions\\\": [],\\n      \\\"custom_fields\\\": {},\\n      \\\"requested_fields\\\": [\\n        \\\"status\\\",\\n        \\\"summary\\\"\\n      ],\\n      \\\"subtasks\\\": [],\\n      \\\"changelogs\\\": [],\\n      \\\"issuelinks\\\": []\\n    },\\n    {\\n      \\\"id\\\": \\\"10004\\\",\\n      \\\"key\\\": \\\"KAN-5\\\",\\n      \\\"summary\\\": \\\"Análise de Desempenho da Aplicação\\\",\\n      \\\"created\\\": \\\"\\\",\\n      \\\"updated\\\": \\\"\\\",\\n      \\\"status\\\": {\\n        \\\"id\\\": \\\"10000\\\",\\n        \\\"name\\\": \\\"To Do\\\",\\n        \\\"description\\\": \\\"\\\",\\n        \\\"icon_url\\\": \\\"https://template-workshop.atlassian.net/\\\",\\n        \\\"category\\\": {\\n          \\\"id\\\": 2,\\n          \\\"key\\\": \\\"new\\\",\\n          \\\"name\\\": \\\"To Do\\\",\\n          \\\"color_name\\\": \\\"blue-gray\\\"\\n        }\\n      },\\n      \\\"labels\\\": [],\\n      \\\"components\\\": [],\\n      \\\"comments\\\": [],\\n      \\\"attachments\\\": [],\\n      \\\"url\\\": \\\"https://template-workshop.atlassian.net/rest/api/2/issue/10004\\\",\\n      \\\"fix_versions\\\": [],\\n      \\\"custom_fields\\\": {},\\n      \\\"requested_fields\\\": [\\n        \\\"status\\\",\\n        \\\"summary\\\"\\n      ],\\n      \\\"subtasks\\\": [],\\n      \\\"changelogs\\\": [],\\n      \\\"issuelinks\\\": []\\n    },\\n    {\\n      \\\"id\\\": \\\"10003\\\",\\n      \\\"key\\\": \\\"KAN-4\\\",\\n      \\\"summary\\\": \\\"Configurar CI/CD para Novo Projeto\\\",\\n      \\\"created\\\": \\\"\\\",\\n      \\\"updated\\\": \\\"\\\",\\n      \\\"status\\\": {\\n        \\\"id\\\": \\\"10000\\\",\\n        \\\"name\\\": \\\"To Do\\\",\\n        \\\"description\\\": \\\"\\\",\\n        \\\"icon_url\\\": \\\"https://template-workshop.atlassian.net/\\\",\\n        \\\"category\\\": {\\n          \\\"id\\\": 2,\\n          \\\"key\\\": \\\"new\\\",\\n          \\\"name\\\": \\\"To Do\\\",\\n          \\\"color_name\\\": \\\"blue-gray\\\"\\n        }\\n      },\\n      \\\"labels\\\": [],\\n      \\\"components\\\": [],\\n      \\\"comments\\\": [],\\n      \\\"attachments\\\": [],\\n      \\\"url\\\": \\\"https://template-workshop.atlassian.net/rest/api/2/issue/10003\\\",\\n      \\\"fix_versions\\\": [],\\n      \\\"custom_fields\\\": {},\\n      \\\"requested_fields\\\": [\\n        \\\"status\\\",\\n        \\\"summary\\\"\\n      ],\\n      \\\"subtasks\\\": [],\\n      \\\"changelogs\\\": [],\\n      \\\"issuelinks\\\": []\\n    },\\n    {\\n      \\\"id\\\": \\\"10002\\\",\\n      \\\"key\\\": \\\"KAN-3\\\",\\n      \\\"summary\\\": \\\"Treinamento sobre OpenShift para a Equipe\\\",\\n      \\\"created\\\": \\\"\\\",\\n      \\\"updated\\\": \\\"\\\",\\n      \\\"status\\\": {\\n        \\\"id\\\": \\\"10000\\\",\\n        \\\"name\\\": \\\"To Do\\\",\\n        \\\"description\\\": \\\"\\\",\\n        \\\"icon_url\\\": \\\"https://template-workshop.atlassian.net/\\\",\\n        \\\"category\\\": {\\n          \\\"id\\\": 2,\\n          \\\"key\\\": \\\"new\\\",\\n          \\\"name\\\": \\\"To Do\\\",\\n          \\\"color_name\\\": \\\"blue-gray\\\"\\n        }\\n      },\\n      \\\"labels\\\": [],\\n      \\\"components\\\": [],\\n      \\\"comments\\\": [],\\n      \\\"attachments\\\": [],\\n      \\\"url\\\": \\\"https://template-workshop.atlassian.net/rest/api/2/issue/10002\\\",\\n      \\\"fix_versions\\\": [],\\n      \\\"custom_fields\\\": {},\\n      \\\"requested_fields\\\": [\\n        \\\"status\\\",\\n        \\\"summary\\\"\\n      ],\\n      \\\"subtasks\\\": [],\\n      \\\"changelogs\\\": [],\\n      \\\"issuelinks\\\": []\\n    },\\n    {\\n      \\\"id\\\": \\\"10001\\\",\\n      \\\"key\\\": \\\"KAN-2\\\",\\n      \\\"summary\\\": \\\"Revisar Documentação de API\\\",\\n      \\\"created\\\": \\\"\\\",\\n      \\\"updated\\\": \\\"\\\",\\n      \\\"status\\\": {\\n        \\\"id\\\": \\\"10000\\\",\\n        \\\"name\\\": \\\"To Do\\\",\\n        \\\"description\\\": \\\"\\\",\\n        \\\"icon_url\\\": \\\"https://template-workshop.atlassian.net/\\\",\\n        \\\"category\\\": {\\n          \\\"id\\\": 2,\\n          \\\"key\\\": \\\"new\\\",\\n          \\\"name\\\": \\\"To Do\\\",\\n          \\\"color_name\\\": \\\"blue-gray\\\"\\n        }\\n      },\\n      \\\"labels\\\": [],\\n      \\\"components\\\": [],\\n      \\\"comments\\\": [],\\n      \\\"attachments\\\": [],\\n      \\\"url\\\": \\\"https://template-workshop.atlassian.net/rest/api/2/issue/10001\\\",\\n      \\\"fix_versions\\\": [],\\n      \\\"custom_fields\\\": {},\\n      \\\"requested_fields\\\": [\\n        \\\"status\\\",\\n        \\\"summary\\\"\\n      ],\\n      \\\"subtasks\\\": [],\\n      \\\"changelogs\\\": [],\\n      \\\"issuelinks\\\": []\\n    },\\n    {\\n      \\\"id\\\": \\\"10000\\\",\\n      \\\"key\\\": \\\"KAN-1\\\",\\n      \\\"summary\\\": \\\"Criar Ambiente de Desenvolvimento no OpenShift\\\",\\n      \\\"created\\\": \\\"\\\",\\n      \\\"updated\\\": \\\"\\\",\\n      \\\"status\\\": {\\n        \\\"id\\\": \\\"10000\\\",\\n        \\\"name\\\": \\\"To Do\\\",\\n        \\\"description\\\": \\\"\\\",\\n        \\\"icon_url\\\": \\\"https://template-workshop.atlassian.net/\\\",\\n        \\\"category\\\": {\\n          \\\"id\\\": 2,\\n          \\\"key\\\": \\\"new\\\",\\n          \\\"name\\\": \\\"To Do\\\",\\n          \\\"color_name\\\": \\\"blue-gray\\\"\\n        }\\n      },\\n      \\\"labels\\\": [],\\n      \\\"components\\\": [],\\n      \\\"comments\\\": [],\\n      \\\"attachments\\\": [],\\n      \\\"url\\\": \\\"https://template-workshop.atlassian.net/rest/api/2/issue/10000\\\",\\n      \\\"fix_versions\\\": [],\\n      \\\"custom_fields\\\": {},\\n      \\\"requested_fields\\\": [\\n        \\\"status\\\",\\n        \\\"summary\\\"\\n      ],\\n      \\\"subtasks\\\": [],\\n      \\\"changelogs\\\": [],\\n      \\\"issuelinks\\\": []\\n    }\\n  ]\\n}\",\n",
      "          \"output_type\": \"tool_response\",\n",
      "          \"tool_call_id\": \"call_aad8e323296545f3b7ff85415fd8\"\n",
      "        }\n",
      "      ]\n",
      "    }\n",
      "  },\n",
      "  \"error\": null,\n",
      "  \"started_at\": \"2025-10-06T18:42:34.176491\",\n",
      "  \"completed_at\": \"2025-10-06T18:42:58.698000\",\n",
      "  \"id\": \"0199bad5-225f-7dae-b9ae-11983855e43f\"\n",
      "}\n"
     ]
    }
   ],
   "source": [
    "%%bash\n",
    "export AUMO_WORKFLOWS_API_URL=\"https://workflows.saas.unia.aumo.live\";\n",
    "export WORKSPACE_ID=\"0199b979-c580-7a71-a16f-8026cf3ada69\";\n",
    "export WORKFLOW_ID=\"0199ba04-c341-7938-8892-61373348d35f\";\n",
    "export API_KEY=\"API-KEY\";\n",
    "\n",
    "curl -X POST --silent \"${AUMO_WORKFLOWS_API_URL}/api/v1/workflow/${WORKSPACE_ID}/run?workflow_id=${WORKFLOW_ID}\"   -H \"accept: application/json\"   -H \"authorization: ${API_KEY}\"   -H \"Content-Type: application/json\" | jq"
   ]
  },
  {
   "cell_type": "markdown",
   "id": "7a33dcc5-0c37-4059-bf66-4e29c92b7698",
   "metadata": {},
   "source": [
    "Caso não seja necessário visualizar a saída de todos os nós e metadados, é possível filtrar apenas a resposta final."
   ]
  },
  {
   "cell_type": "code",
   "execution_count": 14,
   "id": "20a98093-9a77-4592-acfa-d7e77a9724a2",
   "metadata": {},
   "outputs": [
    {
     "name": "stderr",
     "output_type": "stream",
     "text": [
      "  % Total    % Received % Xferd  Average Speed   Time    Time     Time  Current\n",
      "                                 Dload  Upload   Total   Spent    Left  Speed\n",
      "100 11709  100 11709    0     0    670      0  0:00:17  0:00:17 --:--:--  2759\n"
     ]
    },
    {
     "name": "stdout",
     "output_type": "stream",
     "text": [
      "{\n",
      "  \"saida\": \"Aqui estão as tarefas em cada status:\\n\\n**TO DO**\\n- KAN-5: Análise de Desempenho da Aplicação\\n- KAN-4: Configurar CI/CD para Novo Projeto\\n- KAN-3: Treinamento sobre OpenShift para a Equipe\\n- KAN-2: Revisar Documentação de API\\n- KAN-1: Criar Ambiente de Desenvolvimento no OpenShift\\n\\n**IN PROGRESS**\\n- KAN-7: Atualização de Dependências da Aplicação\\n- KAN-6: Implementar Monitoramento em Tempo Real\\n\\n**DONE**\\n- KAN-10: Relatório de Conformidade de Segurança\\n- KAN-9: Configuração de Backups Automáticos\\n- KAN-8: Migrar Base de Dados para o Novo Servidor\",\n",
      "  \"node_type\": \"OutputNode\"\n",
      "}\n"
     ]
    }
   ],
   "source": [
    "%%bash\n",
    "export AUMO_WORKFLOWS_API_URL=\"https://workflows.saas.unia.aumo.live\";\n",
    "export WORKSPACE_ID=\"0199b979-c580-7a71-a16f-8026cf3ada69\";\n",
    "export WORKFLOW_ID=\"0199ba04-c341-7938-8892-61373348d35f\";\n",
    "export API_KEY=\"API-KEY\";\n",
    "\n",
    "curl -X POST  --silent \"${AUMO_WORKFLOWS_API_URL}/api/v1/workflow/${WORKSPACE_ID}/run?workflow_id=${WORKFLOW_ID}\"   -H \"accept: application/json\"   -H \"authorization: ${API_KEY}\"   -H \"Content-Type: application/json\" | jq \".output.output_node\""
   ]
  },
  {
   "cell_type": "markdown",
   "id": "7d4a71fb-654f-490d-91d9-3271b023206a",
   "metadata": {},
   "source": [
    "## Python\n",
    "\n",
    "Para integrar um app Python aos Agentes da AUMO, basta utilizar um cliente HTTP para fazer requisições REST ao servidor. Por simplicidade usamos a biblioteca `requests`"
   ]
  },
  {
   "cell_type": "code",
   "execution_count": 6,
   "id": "1cfdff1a-c0f1-4a00-9af2-132e7a2fb763",
   "metadata": {},
   "outputs": [
    {
     "name": "stdout",
     "output_type": "stream",
     "text": [
      "Output completo:  {\n",
      "    \"user_id\": \"0199b964-9be3-7735-a608-77124d668136\",\n",
      "    \"workflow_id\": \"0199ba04-c341-7938-8892-61373348d35f\",\n",
      "    \"status\": \"completed\",\n",
      "    \"input\": {},\n",
      "    \"output\": {\n",
      "        \"input_node\": {\n",
      "            \"node_type\": \"InputNode\"\n",
      "        },\n",
      "        \"output_node\": {\n",
      "            \"saida\": \"Aqui est\\u00e3o as tarefas para o projeto \\\"Workshops\\\" (KAN):\\n\\n**TO DO**\\n* An\\u00e1lise de Desempenho da Aplica\\u00e7\\u00e3o\\n* Configurar CI/CD para Novo Projeto\\n* Treinamento sobre OpenShift para a Equipe\\n* Revisar Documenta\\u00e7\\u00e3o de API\\n* Criar Ambiente de Desenvolvimento no OpenShift\\n\\n**IN PROGRESS**\\n* Atualiza\\u00e7\\u00e3o de Depend\\u00eancias da Aplica\\u00e7\\u00e3o\\n* Implementar Monitoramento em Tempo Real\\n\\n**DONE**\\n* Relat\\u00f3rio de Conformidade de Seguran\\u00e7a\\n* Configura\\u00e7\\u00e3o de Backups Autom\\u00e1ticos\\n* Migrar Base de Dados para o Novo Servidor\",\n",
      "            \"node_type\": \"OutputNode\"\n",
      "        },\n",
      "        \"f5612b0911a34780a7c58838500299ae\": {\n",
      "            \"node_type\": \"SingleLLMCallNode\",\n",
      "            \"completion\": {\n",
      "                \"usage\": null,\n",
      "                \"content\": \"Aqui est\\u00e3o as tarefas para o projeto \\\"Workshops\\\" (KAN):\\n\\n**TO DO**\\n* An\\u00e1lise de Desempenho da Aplica\\u00e7\\u00e3o\\n* Configurar CI/CD para Novo Projeto\\n* Treinamento sobre OpenShift para a Equipe\\n* Revisar Documenta\\u00e7\\u00e3o de API\\n* Criar Ambiente de Desenvolvimento no OpenShift\\n\\n**IN PROGRESS**\\n* Atualiza\\u00e7\\u00e3o de Depend\\u00eancias da Aplica\\u00e7\\u00e3o\\n* Implementar Monitoramento em Tempo Real\\n\\n**DONE**\\n* Relat\\u00f3rio de Conformidade de Seguran\\u00e7a\\n* Configura\\u00e7\\u00e3o de Backups Autom\\u00e1ticos\\n* Migrar Base de Dados para o Novo Servidor\",\n",
      "                \"finish_reason\": null\n",
      "            },\n",
      "            \"tool_calls\": [\n",
      "                {\n",
      "                    \"arguments\": {\n",
      "                        \"jql\": \"project = \\\"KAN\\\" AND status IN (\\\"TO DO\\\", \\\"IN PROGRESS\\\", \\\"DONE\\\")\",\n",
      "                        \"fields\": \"status,summary\"\n",
      "                    },\n",
      "                    \"tool_name\": \"jira_search\",\n",
      "                    \"output_type\": \"tool_call\",\n",
      "                    \"tool_call_id\": \"call_756d0282ea0247f2a20dd99218e5\"\n",
      "                }\n",
      "            ],\n",
      "            \"tool_responses\": [\n",
      "                {\n",
      "                    \"content\": \"{\\n  \\\"total\\\": -1,\\n  \\\"start_at\\\": -1,\\n  \\\"max_results\\\": -1,\\n  \\\"issues\\\": [\\n    {\\n      \\\"id\\\": \\\"10009\\\",\\n      \\\"key\\\": \\\"KAN-10\\\",\\n      \\\"summary\\\": \\\"Relat\\u00f3rio de Conformidade de Seguran\\u00e7a\\\",\\n      \\\"created\\\": \\\"\\\",\\n      \\\"updated\\\": \\\"\\\",\\n      \\\"status\\\": {\\n        \\\"id\\\": \\\"10002\\\",\\n        \\\"name\\\": \\\"Done\\\",\\n        \\\"description\\\": \\\"\\\",\\n        \\\"icon_url\\\": \\\"https://template-workshop.atlassian.net/\\\",\\n        \\\"category\\\": {\\n          \\\"id\\\": 3,\\n          \\\"key\\\": \\\"done\\\",\\n          \\\"name\\\": \\\"Done\\\",\\n          \\\"color_name\\\": \\\"green\\\"\\n        }\\n      },\\n      \\\"labels\\\": [],\\n      \\\"components\\\": [],\\n      \\\"comments\\\": [],\\n      \\\"attachments\\\": [],\\n      \\\"url\\\": \\\"https://template-workshop.atlassian.net/rest/api/2/issue/10009\\\",\\n      \\\"fix_versions\\\": [],\\n      \\\"custom_fields\\\": {},\\n      \\\"requested_fields\\\": [\\n        \\\"status\\\",\\n        \\\"summary\\\"\\n      ],\\n      \\\"subtasks\\\": [],\\n      \\\"changelogs\\\": [],\\n      \\\"issuelinks\\\": []\\n    },\\n    {\\n      \\\"id\\\": \\\"10008\\\",\\n      \\\"key\\\": \\\"KAN-9\\\",\\n      \\\"summary\\\": \\\"Configura\\u00e7\\u00e3o de Backups Autom\\u00e1ticos\\\",\\n      \\\"created\\\": \\\"\\\",\\n      \\\"updated\\\": \\\"\\\",\\n      \\\"status\\\": {\\n        \\\"id\\\": \\\"10002\\\",\\n        \\\"name\\\": \\\"Done\\\",\\n        \\\"description\\\": \\\"\\\",\\n        \\\"icon_url\\\": \\\"https://template-workshop.atlassian.net/\\\",\\n        \\\"category\\\": {\\n          \\\"id\\\": 3,\\n          \\\"key\\\": \\\"done\\\",\\n          \\\"name\\\": \\\"Done\\\",\\n          \\\"color_name\\\": \\\"green\\\"\\n        }\\n      },\\n      \\\"labels\\\": [],\\n      \\\"components\\\": [],\\n      \\\"comments\\\": [],\\n      \\\"attachments\\\": [],\\n      \\\"url\\\": \\\"https://template-workshop.atlassian.net/rest/api/2/issue/10008\\\",\\n      \\\"fix_versions\\\": [],\\n      \\\"custom_fields\\\": {},\\n      \\\"requested_fields\\\": [\\n        \\\"status\\\",\\n        \\\"summary\\\"\\n      ],\\n      \\\"subtasks\\\": [],\\n      \\\"changelogs\\\": [],\\n      \\\"issuelinks\\\": []\\n    },\\n    {\\n      \\\"id\\\": \\\"10007\\\",\\n      \\\"key\\\": \\\"KAN-8\\\",\\n      \\\"summary\\\": \\\"Migrar Base de Dados para o Novo Servidor\\\",\\n      \\\"created\\\": \\\"\\\",\\n      \\\"updated\\\": \\\"\\\",\\n      \\\"status\\\": {\\n        \\\"id\\\": \\\"10002\\\",\\n        \\\"name\\\": \\\"Done\\\",\\n        \\\"description\\\": \\\"\\\",\\n        \\\"icon_url\\\": \\\"https://template-workshop.atlassian.net/\\\",\\n        \\\"category\\\": {\\n          \\\"id\\\": 3,\\n          \\\"key\\\": \\\"done\\\",\\n          \\\"name\\\": \\\"Done\\\",\\n          \\\"color_name\\\": \\\"green\\\"\\n        }\\n      },\\n      \\\"labels\\\": [],\\n      \\\"components\\\": [],\\n      \\\"comments\\\": [],\\n      \\\"attachments\\\": [],\\n      \\\"url\\\": \\\"https://template-workshop.atlassian.net/rest/api/2/issue/10007\\\",\\n      \\\"fix_versions\\\": [],\\n      \\\"custom_fields\\\": {},\\n      \\\"requested_fields\\\": [\\n        \\\"status\\\",\\n        \\\"summary\\\"\\n      ],\\n      \\\"subtasks\\\": [],\\n      \\\"changelogs\\\": [],\\n      \\\"issuelinks\\\": []\\n    },\\n    {\\n      \\\"id\\\": \\\"10006\\\",\\n      \\\"key\\\": \\\"KAN-7\\\",\\n      \\\"summary\\\": \\\"Atualiza\\u00e7\\u00e3o de Depend\\u00eancias da Aplica\\u00e7\\u00e3o\\\",\\n      \\\"created\\\": \\\"\\\",\\n      \\\"updated\\\": \\\"\\\",\\n      \\\"status\\\": {\\n        \\\"id\\\": \\\"10001\\\",\\n        \\\"name\\\": \\\"In Progress\\\",\\n        \\\"description\\\": \\\"This work item is being actively worked on at the moment by the assignee.\\\",\\n        \\\"icon_url\\\": \\\"https://template-workshop.atlassian.net/\\\",\\n        \\\"category\\\": {\\n          \\\"id\\\": 4,\\n          \\\"key\\\": \\\"indeterminate\\\",\\n          \\\"name\\\": \\\"In Progress\\\",\\n          \\\"color_name\\\": \\\"yellow\\\"\\n        }\\n      },\\n      \\\"labels\\\": [],\\n      \\\"components\\\": [],\\n      \\\"comments\\\": [],\\n      \\\"attachments\\\": [],\\n      \\\"url\\\": \\\"https://template-workshop.atlassian.net/rest/api/2/issue/10006\\\",\\n      \\\"fix_versions\\\": [],\\n      \\\"custom_fields\\\": {},\\n      \\\"requested_fields\\\": [\\n        \\\"status\\\",\\n        \\\"summary\\\"\\n      ],\\n      \\\"subtasks\\\": [],\\n      \\\"changelogs\\\": [],\\n      \\\"issuelinks\\\": []\\n    },\\n    {\\n      \\\"id\\\": \\\"10005\\\",\\n      \\\"key\\\": \\\"KAN-6\\\",\\n      \\\"summary\\\": \\\"Implementar Monitoramento em Tempo Real\\\",\\n      \\\"created\\\": \\\"\\\",\\n      \\\"updated\\\": \\\"\\\",\\n      \\\"status\\\": {\\n        \\\"id\\\": \\\"10001\\\",\\n        \\\"name\\\": \\\"In Progress\\\",\\n        \\\"description\\\": \\\"This work item is being actively worked on at the moment by the assignee.\\\",\\n        \\\"icon_url\\\": \\\"https://template-workshop.atlassian.net/\\\",\\n        \\\"category\\\": {\\n          \\\"id\\\": 4,\\n          \\\"key\\\": \\\"indeterminate\\\",\\n          \\\"name\\\": \\\"In Progress\\\",\\n          \\\"color_name\\\": \\\"yellow\\\"\\n        }\\n      },\\n      \\\"labels\\\": [],\\n      \\\"components\\\": [],\\n      \\\"comments\\\": [],\\n      \\\"attachments\\\": [],\\n      \\\"url\\\": \\\"https://template-workshop.atlassian.net/rest/api/2/issue/10005\\\",\\n      \\\"fix_versions\\\": [],\\n      \\\"custom_fields\\\": {},\\n      \\\"requested_fields\\\": [\\n        \\\"status\\\",\\n        \\\"summary\\\"\\n      ],\\n      \\\"subtasks\\\": [],\\n      \\\"changelogs\\\": [],\\n      \\\"issuelinks\\\": []\\n    },\\n    {\\n      \\\"id\\\": \\\"10004\\\",\\n      \\\"key\\\": \\\"KAN-5\\\",\\n      \\\"summary\\\": \\\"An\\u00e1lise de Desempenho da Aplica\\u00e7\\u00e3o\\\",\\n      \\\"created\\\": \\\"\\\",\\n      \\\"updated\\\": \\\"\\\",\\n      \\\"status\\\": {\\n        \\\"id\\\": \\\"10000\\\",\\n        \\\"name\\\": \\\"To Do\\\",\\n        \\\"description\\\": \\\"\\\",\\n        \\\"icon_url\\\": \\\"https://template-workshop.atlassian.net/\\\",\\n        \\\"category\\\": {\\n          \\\"id\\\": 2,\\n          \\\"key\\\": \\\"new\\\",\\n          \\\"name\\\": \\\"To Do\\\",\\n          \\\"color_name\\\": \\\"blue-gray\\\"\\n        }\\n      },\\n      \\\"labels\\\": [],\\n      \\\"components\\\": [],\\n      \\\"comments\\\": [],\\n      \\\"attachments\\\": [],\\n      \\\"url\\\": \\\"https://template-workshop.atlassian.net/rest/api/2/issue/10004\\\",\\n      \\\"fix_versions\\\": [],\\n      \\\"custom_fields\\\": {},\\n      \\\"requested_fields\\\": [\\n        \\\"status\\\",\\n        \\\"summary\\\"\\n      ],\\n      \\\"subtasks\\\": [],\\n      \\\"changelogs\\\": [],\\n      \\\"issuelinks\\\": []\\n    },\\n    {\\n      \\\"id\\\": \\\"10003\\\",\\n      \\\"key\\\": \\\"KAN-4\\\",\\n      \\\"summary\\\": \\\"Configurar CI/CD para Novo Projeto\\\",\\n      \\\"created\\\": \\\"\\\",\\n      \\\"updated\\\": \\\"\\\",\\n      \\\"status\\\": {\\n        \\\"id\\\": \\\"10000\\\",\\n        \\\"name\\\": \\\"To Do\\\",\\n        \\\"description\\\": \\\"\\\",\\n        \\\"icon_url\\\": \\\"https://template-workshop.atlassian.net/\\\",\\n        \\\"category\\\": {\\n          \\\"id\\\": 2,\\n          \\\"key\\\": \\\"new\\\",\\n          \\\"name\\\": \\\"To Do\\\",\\n          \\\"color_name\\\": \\\"blue-gray\\\"\\n        }\\n      },\\n      \\\"labels\\\": [],\\n      \\\"components\\\": [],\\n      \\\"comments\\\": [],\\n      \\\"attachments\\\": [],\\n      \\\"url\\\": \\\"https://template-workshop.atlassian.net/rest/api/2/issue/10003\\\",\\n      \\\"fix_versions\\\": [],\\n      \\\"custom_fields\\\": {},\\n      \\\"requested_fields\\\": [\\n        \\\"status\\\",\\n        \\\"summary\\\"\\n      ],\\n      \\\"subtasks\\\": [],\\n      \\\"changelogs\\\": [],\\n      \\\"issuelinks\\\": []\\n    },\\n    {\\n      \\\"id\\\": \\\"10002\\\",\\n      \\\"key\\\": \\\"KAN-3\\\",\\n      \\\"summary\\\": \\\"Treinamento sobre OpenShift para a Equipe\\\",\\n      \\\"created\\\": \\\"\\\",\\n      \\\"updated\\\": \\\"\\\",\\n      \\\"status\\\": {\\n        \\\"id\\\": \\\"10000\\\",\\n        \\\"name\\\": \\\"To Do\\\",\\n        \\\"description\\\": \\\"\\\",\\n        \\\"icon_url\\\": \\\"https://template-workshop.atlassian.net/\\\",\\n        \\\"category\\\": {\\n          \\\"id\\\": 2,\\n          \\\"key\\\": \\\"new\\\",\\n          \\\"name\\\": \\\"To Do\\\",\\n          \\\"color_name\\\": \\\"blue-gray\\\"\\n        }\\n      },\\n      \\\"labels\\\": [],\\n      \\\"components\\\": [],\\n      \\\"comments\\\": [],\\n      \\\"attachments\\\": [],\\n      \\\"url\\\": \\\"https://template-workshop.atlassian.net/rest/api/2/issue/10002\\\",\\n      \\\"fix_versions\\\": [],\\n      \\\"custom_fields\\\": {},\\n      \\\"requested_fields\\\": [\\n        \\\"status\\\",\\n        \\\"summary\\\"\\n      ],\\n      \\\"subtasks\\\": [],\\n      \\\"changelogs\\\": [],\\n      \\\"issuelinks\\\": []\\n    },\\n    {\\n      \\\"id\\\": \\\"10001\\\",\\n      \\\"key\\\": \\\"KAN-2\\\",\\n      \\\"summary\\\": \\\"Revisar Documenta\\u00e7\\u00e3o de API\\\",\\n      \\\"created\\\": \\\"\\\",\\n      \\\"updated\\\": \\\"\\\",\\n      \\\"status\\\": {\\n        \\\"id\\\": \\\"10000\\\",\\n        \\\"name\\\": \\\"To Do\\\",\\n        \\\"description\\\": \\\"\\\",\\n        \\\"icon_url\\\": \\\"https://template-workshop.atlassian.net/\\\",\\n        \\\"category\\\": {\\n          \\\"id\\\": 2,\\n          \\\"key\\\": \\\"new\\\",\\n          \\\"name\\\": \\\"To Do\\\",\\n          \\\"color_name\\\": \\\"blue-gray\\\"\\n        }\\n      },\\n      \\\"labels\\\": [],\\n      \\\"components\\\": [],\\n      \\\"comments\\\": [],\\n      \\\"attachments\\\": [],\\n      \\\"url\\\": \\\"https://template-workshop.atlassian.net/rest/api/2/issue/10001\\\",\\n      \\\"fix_versions\\\": [],\\n      \\\"custom_fields\\\": {},\\n      \\\"requested_fields\\\": [\\n        \\\"status\\\",\\n        \\\"summary\\\"\\n      ],\\n      \\\"subtasks\\\": [],\\n      \\\"changelogs\\\": [],\\n      \\\"issuelinks\\\": []\\n    },\\n    {\\n      \\\"id\\\": \\\"10000\\\",\\n      \\\"key\\\": \\\"KAN-1\\\",\\n      \\\"summary\\\": \\\"Criar Ambiente de Desenvolvimento no OpenShift\\\",\\n      \\\"created\\\": \\\"\\\",\\n      \\\"updated\\\": \\\"\\\",\\n      \\\"status\\\": {\\n        \\\"id\\\": \\\"10000\\\",\\n        \\\"name\\\": \\\"To Do\\\",\\n        \\\"description\\\": \\\"\\\",\\n        \\\"icon_url\\\": \\\"https://template-workshop.atlassian.net/\\\",\\n        \\\"category\\\": {\\n          \\\"id\\\": 2,\\n          \\\"key\\\": \\\"new\\\",\\n          \\\"name\\\": \\\"To Do\\\",\\n          \\\"color_name\\\": \\\"blue-gray\\\"\\n        }\\n      },\\n      \\\"labels\\\": [],\\n      \\\"components\\\": [],\\n      \\\"comments\\\": [],\\n      \\\"attachments\\\": [],\\n      \\\"url\\\": \\\"https://template-workshop.atlassian.net/rest/api/2/issue/10000\\\",\\n      \\\"fix_versions\\\": [],\\n      \\\"custom_fields\\\": {},\\n      \\\"requested_fields\\\": [\\n        \\\"status\\\",\\n        \\\"summary\\\"\\n      ],\\n      \\\"subtasks\\\": [],\\n      \\\"changelogs\\\": [],\\n      \\\"issuelinks\\\": []\\n    }\\n  ]\\n}\",\n",
      "                    \"output_type\": \"tool_response\",\n",
      "                    \"tool_call_id\": \"call_756d0282ea0247f2a20dd99218e5\"\n",
      "                }\n",
      "            ]\n",
      "        }\n",
      "    },\n",
      "    \"error\": null,\n",
      "    \"started_at\": \"2025-10-06T18:41:38.392205\",\n",
      "    \"completed_at\": \"2025-10-06T18:41:59.908000\",\n",
      "    \"id\": \"0199bad4-4876-7480-b8ad-584f44e3da23\"\n",
      "}\n",
      "Output resumido: {'saida': 'Aqui estão as tarefas para o projeto \"Workshops\" (KAN):\\n\\n**TO DO**\\n* Análise de Desempenho da Aplicação\\n* Configurar CI/CD para Novo Projeto\\n* Treinamento sobre OpenShift para a Equipe\\n* Revisar Documentação de API\\n* Criar Ambiente de Desenvolvimento no OpenShift\\n\\n**IN PROGRESS**\\n* Atualização de Dependências da Aplicação\\n* Implementar Monitoramento em Tempo Real\\n\\n**DONE**\\n* Relatório de Conformidade de Segurança\\n* Configuração de Backups Automáticos\\n* Migrar Base de Dados para o Novo Servidor', 'node_type': 'OutputNode'}\n"
     ]
    }
   ],
   "source": [
    "import json\n",
    "\n",
    "import requests\n",
    "\n",
    "AUMO_WORKFLOWS_API_URL = \"https://workflows.saas.unia.aumo.live\";\n",
    "WORKSPACE_ID           = \"0199b979-c580-7a71-a16f-8026cf3ada69\";\n",
    "WORKFLOW_ID            = \"0199ba04-c341-7938-8892-61373348d35f\";\n",
    "API_KEY                = \"API-KEY\";\n",
    "\n",
    "def run_workflow():\n",
    "    url = f\"https://workflows.saas.unia.aumo.live/api/v1/workflow/{WORKSPACE_ID}/run\"\n",
    "    params = {\"workflow_id\": WORKFLOW_ID}\n",
    "    headers = {\n",
    "        \"accept\": \"application/json\",\n",
    "        \"authorization\": API_KEY,\n",
    "        \"Content-Type\": \"application/json\",\n",
    "    }\n",
    "    # data = {\"user_message\": user_message}\n",
    "    response = requests.post(\n",
    "        url,\n",
    "        params=params,\n",
    "        headers=headers,\n",
    "        # data=json.dumps(data)\n",
    "    )\n",
    "    response.raise_for_status()  # Raise an exception for bad status codes (4xx or 5xx)\n",
    "    return response.json()\n",
    "\n",
    "\n",
    "# Example usage:\n",
    "response_workflow = run_workflow()\n",
    "print(\"Output completo: \", json.dumps(response_workflow, indent=4))\n",
    "print(\n",
    "    \"Output resumido:\",\n",
    "    response_workflow.get(\"output\", {})\n",
    "    .get(\"output_node\", \"Erro ao obter resposta\")\n",
    ")"
   ]
  }
 ],
 "metadata": {
  "kernelspec": {
   "display_name": "Python 3 (ipykernel)",
   "language": "python",
   "name": "python3"
  },
  "language_info": {
   "codemirror_mode": {
    "name": "ipython",
    "version": 3
   },
   "file_extension": ".py",
   "mimetype": "text/x-python",
   "name": "python",
   "nbconvert_exporter": "python",
   "pygments_lexer": "ipython3",
   "version": "3.12.6"
  }
 },
 "nbformat": 4,
 "nbformat_minor": 5
}
